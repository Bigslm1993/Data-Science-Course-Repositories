{
 "cells": [
  {
   "cell_type": "markdown",
   "id": "b2c9df70",
   "metadata": {},
   "source": [
    "# Data Science Tools and Ecosystem"
   ]
  },
  {
   "cell_type": "markdown",
   "id": "40678b41",
   "metadata": {},
   "source": [
    "In this notebook, Data Science Tools an Ecosystem are summarized."
   ]
  },
  {
   "cell_type": "markdown",
   "id": "dd4409d0",
   "metadata": {},
   "source": [
    "**Objectives**\n",
    "+ Display knowledge of some popular languages employed by Data Scientists\n",
    "+ Showcase some fo the different libraries used by Data Scientists\n",
    "+ Create a table and list some popular open source development environments\n",
    "+ Practice the execution of arithmetic code"
   ]
  },
  {
   "cell_type": "markdown",
   "id": "bf8873f0",
   "metadata": {},
   "source": [
    "Some of the popular languages that Data Scientists use are:\n",
    "+ Python\n",
    "+ R\n",
    "+ SQL \n",
    "+ C++\n",
    "\n",
    "These are just a few of the many. "
   ]
  },
  {
   "cell_type": "markdown",
   "id": "2aaafc39",
   "metadata": {},
   "source": [
    "In addition, Data Scientists make use of a variety of libaries such as:\n",
    "+ Pandas\n",
    "+ NumPy\n",
    "+ SciPy\n",
    "+ Matplotlib"
   ]
  },
  {
   "cell_type": "markdown",
   "id": "fbe1cc33",
   "metadata": {},
   "source": [
    "|  Data Science Tools  |\n",
    "| ------------------------ |\n",
    "| IBM Watson |\n",
    "| RStudio |\n",
    "| JupyterLab|"
   ]
  },
  {
   "cell_type": "markdown",
   "id": "7f7a6526",
   "metadata": {},
   "source": [
    "### Below are a few examples of evaluating arithmetic expression in Python ###\n",
    "\n"
   ]
  },
  {
   "cell_type": "code",
   "execution_count": 1,
   "id": "48f90f2e",
   "metadata": {},
   "outputs": [
    {
     "data": {
      "text/plain": [
       "17"
      ]
     },
     "execution_count": 1,
     "metadata": {},
     "output_type": "execute_result"
    }
   ],
   "source": [
    "#This is a simple arithmetic expression in Python\n",
    "(3*4)+5"
   ]
  },
  {
   "cell_type": "code",
   "execution_count": 2,
   "id": "ff5db107",
   "metadata": {},
   "outputs": [
    {
     "data": {
      "text/plain": [
       "3.3333333333333335"
      ]
     },
     "execution_count": 2,
     "metadata": {},
     "output_type": "execute_result"
    }
   ],
   "source": [
    "#This will convert 200 minutes into hours by dividing by 60\n",
    "200/60"
   ]
  },
  {
   "cell_type": "markdown",
   "id": "b954871c",
   "metadata": {},
   "source": [
    "## Author ##\n",
    "Steven Morris"
   ]
  },
  {
   "cell_type": "code",
   "execution_count": null,
   "id": "0d3b3a19",
   "metadata": {},
   "outputs": [],
   "source": []
  }
 ],
 "metadata": {
  "kernelspec": {
   "display_name": "Python 3 (ipykernel)",
   "language": "python",
   "name": "python3"
  },
  "language_info": {
   "codemirror_mode": {
    "name": "ipython",
    "version": 3
   },
   "file_extension": ".py",
   "mimetype": "text/x-python",
   "name": "python",
   "nbconvert_exporter": "python",
   "pygments_lexer": "ipython3",
   "version": "3.11.5"
  }
 },
 "nbformat": 4,
 "nbformat_minor": 5
}
